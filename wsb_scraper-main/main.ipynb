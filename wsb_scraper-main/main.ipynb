{
 "cells": [
  {
   "cell_type": "code",
   "execution_count": 3,
   "metadata": {},
   "outputs": [],
   "source": [
    "import praw\n",
    "import re\n",
    "import pandas as pd\n",
    "import config\n",
    "import discord\n",
    "import time\n",
    "import robin_stocks\n",
    "from rich.traceback import install\n",
    "import pyotp\n",
    "install()\n",
    "\n",
    "\n",
    "def get_stock_list():\n",
    "    ticker_dict = {}\n",
    "    filelist = [\"input/list1.csv\", \"input/list2.csv\", \"input/list3.csv\"]\n",
    "    for file in filelist:\n",
    "        tl = pd.read_csv(file, skiprows=0, skip_blank_lines=True)\n",
    "        tl = tl[tl.columns[0]].tolist()\n",
    "        for ticker in tl:\n",
    "            ticker_dict[ticker] = 1\n",
    "    return ticker_dict\n",
    "\n",
    "\n",
    "def get_prev_tickers():\n",
    "    prev = open(\"output/prev.txt\", \"r\")\n",
    "    prevTickers = prev.readlines()\n",
    "    prev.close()\n",
    "    return prevTickers\n",
    "\n",
    "\n",
    "def get_tickers(sub, stockList):\n",
    "    reddit = praw.Reddit(\n",
    "        client_id ='K9JOErHXUzFfpMb-2pXdQQ',\n",
    "        client_secret ='ShqIa3iypFTKc4B07YhpVEqNakBHIw',\n",
    "        user_agent ='WSB Scraping')\n",
    "\n",
    "#     reddit = praw.Reddit(\n",
    "#         client_id=config.reddit_id,\n",
    "#         client_secret=config.reddit_secret,\n",
    "#         user_agent=\"WSB Scraping\",\n",
    "#     )\n",
    "    weeklyTickers = {}\n",
    "\n",
    "    regexPattern = r'\\b([A-Z]+)\\b'\n",
    "    tickerDict = stockList\n",
    "    blacklist = [\"A\", \"I\", \"DD\", \"WSB\", \"YOLO\", \"RH\", \"EV\", \"PE\", \"ETH\", \"BTC\", \"E\"]\n",
    "    for submission in reddit.subreddit(sub).top(time_filter=\"week\"):\n",
    "        strings = [submission.title]\n",
    "        submission.comments.replace_more(limit=0)\n",
    "        for comment in submission.comments.list():\n",
    "            strings.append(comment.body)\n",
    "        for s in strings:\n",
    "            for phrase in re.findall(regexPattern, s):\n",
    "                if phrase not in blacklist:\n",
    "                    if phrase in tickerDict:\n",
    "                        if phrase not in weeklyTickers:\n",
    "                            weeklyTickers[phrase] = 1\n",
    "                        else:\n",
    "                            weeklyTickers[phrase] += 1\n",
    "    return weeklyTickers\n",
    "\n",
    "\n",
    "def write_to_file(file, toBuy, toSell):\n",
    "    f = open(file, \"w\")\n",
    "    f.write(\"BUY:\\n\")\n",
    "    toBuy = [buy + '\\n' for buy in toBuy]\n",
    "    f.writelines(toBuy)\n",
    "    f.write(\"\\nSELL:\\n\")\n",
    "    toSell = [sell + '\\n' for sell in toSell]\n",
    "    f.writelines(toSell)\n",
    "    f.close()\n",
    "\n",
    "\n",
    "def stf(subs):\n",
    "    files = []\n",
    "    for sub in subs:\n",
    "        fp = 'output/'+sub+'.txt'\n",
    "        file = discord.File(fp=fp, filename=fp, spoiler=False)\n",
    "        files.append(file)\n",
    "    return files\n",
    "\n",
    "\n",
    "def discordbot(files):\n",
    "    client = discord.Client()\n",
    "\n",
    "    @client.event\n",
    "    async def on_ready():\n",
    "        channel = client.get_channel(config.channel_id)\n",
    "        await channel.send(files=files)\n",
    "        await client.close()\n",
    "        time.sleep(1)\n",
    "\n",
    "    client.run(config.discord_token)\n",
    "\n",
    "\n",
    "def robinbot(buy, sell):\n",
    "    totp = pyotp.TOTP(config.robin_totp).now()\n",
    "    print(\"Current OTP: \", totp)\n",
    "    login = robin_stocks.login(config.robin_user, config.robin_pwd, mfa_code=totp)\n",
    "\n",
    "    holdings = robin_stocks.get_open_stock_positions()\n",
    "    print(buy)\n",
    "    print(sell)\n",
    "    for stock in sell:\n",
    "        stock = stock.strip()\n",
    "        if stock in holdings:\n",
    "            quantity = holdings[stock][\"quantity\"]\n",
    "            robin_stocks.order_sell_fractional_by_quantity(stock, quantity, 'gfd')\n",
    "\n",
    "    acc = robin_stocks.load_account_profile()\n",
    "    print(acc)\n",
    "    bp = acc[\"portfolio_cash\"]\n",
    "    print(bp)\n",
    "    bp = float(bp)\n",
    "    if bp > 0:\n",
    "        bpps = bp/len(buy)\n",
    "        print(bpps)\n",
    "        for stock in buy:\n",
    "            order = robin_stocks.order_buy_fractional_by_price(stock, bpps, 'gfd')\n",
    "            print(order)\n",
    "    else:\n",
    "        print(\"not enough buying power\")\n",
    "    robin_stocks.logout()\n",
    "\n",
    "\n",
    "def main():\n",
    "    prevTickers = get_prev_tickers()\n",
    "    subs = [\"wallstreetbets\", \"stocks\", \"investing\", \"smallstreetbets\"]\n",
    "    stockList = get_stock_list()\n",
    "    topTickers = {}\n",
    "    for sub in subs:\n",
    "        weeklyTickers = get_tickers(sub, stockList)\n",
    "        for ticker in weeklyTickers.keys():\n",
    "            if ticker in topTickers:\n",
    "                topTickers[ticker] += weeklyTickers[ticker]\n",
    "            else:\n",
    "                topTickers[ticker] = weeklyTickers[ticker]\n",
    "\n",
    "    top5 = sorted(topTickers, key=topTickers.get, reverse=True)[:5]\n",
    "    toBuy = []\n",
    "    toSell = []\n",
    "    for top in top5:\n",
    "        if top not in prevTickers:\n",
    "            toBuy.append(top)\n",
    "    for prev in prevTickers:\n",
    "        prev = prev.strip()\n",
    "        if prev not in top5:\n",
    "            toSell.append(prev)\n",
    "    return toBuy\n",
    "    write_to_file(\"output/actions.txt\", toBuy, toSell)\n",
    "    robinbot(toBuy, toSell)\n",
    "    prev = open(\"output/prev.txt\", \"w\")\n",
    "    toBuy = [buy+'\\n' for buy in toBuy]\n",
    "    prev.writelines(toBuy)\n",
    "    prev.close()\n",
    "    discordbot(stf([\"actions\"]))\n",
    "\n",
    "\n"
   ]
  },
  {
   "cell_type": "code",
   "execution_count": 5,
   "metadata": {},
   "outputs": [],
   "source": [
    "if __name__ == '__main__':\n",
    "    top5 = main()"
   ]
  },
  {
   "cell_type": "code",
   "execution_count": 4,
   "metadata": {},
   "outputs": [
    {
     "data": {
      "text/plain": [
       "['AI', 'TSLA', 'T', 'IRS', 'CEO']"
      ]
     },
     "execution_count": 4,
     "metadata": {},
     "output_type": "execute_result"
    }
   ],
   "source": [
    "top5"
   ]
  },
  {
   "cell_type": "code",
   "execution_count": 2,
   "metadata": {},
   "outputs": [
    {
     "name": "stdout",
     "output_type": "stream",
     "text": [
      "Collecting praw\n",
      "  Downloading praw-7.7.0-py3-none-any.whl (189 kB)\n",
      "Collecting update-checker>=0.18\n",
      "  Downloading update_checker-0.18.0-py3-none-any.whl (7.0 kB)\n",
      "Collecting prawcore<3,>=2.1\n",
      "  Downloading prawcore-2.3.0-py3-none-any.whl (16 kB)\n",
      "Collecting websocket-client>=0.54.0\n",
      "  Downloading websocket_client-1.5.1-py3-none-any.whl (55 kB)\n",
      "Requirement already satisfied: requests>=2.3.0 in c:\\users\\niyati\\anaconda3\\lib\\site-packages (from update-checker>=0.18->praw) (2.24.0)\n",
      "Requirement already satisfied: certifi>=2017.4.17 in c:\\users\\niyati\\anaconda3\\lib\\site-packages (from requests>=2.3.0->update-checker>=0.18->praw) (2021.10.8)\n",
      "Requirement already satisfied: idna<3,>=2.5 in c:\\users\\niyati\\anaconda3\\lib\\site-packages (from requests>=2.3.0->update-checker>=0.18->praw) (2.10)\n",
      "Requirement already satisfied: chardet<4,>=3.0.2 in c:\\users\\niyati\\anaconda3\\lib\\site-packages (from requests>=2.3.0->update-checker>=0.18->praw) (3.0.4)\n",
      "Requirement already satisfied: urllib3!=1.25.0,!=1.25.1,<1.26,>=1.21.1 in c:\\users\\niyati\\anaconda3\\lib\\site-packages (from requests>=2.3.0->update-checker>=0.18->praw) (1.25.9)\n",
      "Installing collected packages: update-checker, prawcore, websocket-client, praw\n",
      "Successfully installed praw-7.7.0 prawcore-2.3.0 update-checker-0.18.0 websocket-client-1.5.1\n"
     ]
    }
   ],
   "source": [
    "!pip3 install praw"
   ]
  },
  {
   "cell_type": "code",
   "execution_count": 4,
   "metadata": {},
   "outputs": [
    {
     "name": "stdout",
     "output_type": "stream",
     "text": [
      "Collecting config\n",
      "  Downloading config-0.5.1-py2.py3-none-any.whl (20 kB)\n",
      "Installing collected packages: config\n",
      "Successfully installed config-0.5.1\n"
     ]
    }
   ],
   "source": [
    "!pip3 install config"
   ]
  },
  {
   "cell_type": "code",
   "execution_count": 6,
   "metadata": {
    "scrolled": true
   },
   "outputs": [
    {
     "name": "stdout",
     "output_type": "stream",
     "text": [
      "Collecting discord\n",
      "  Downloading discord-2.2.2-py3-none-any.whl (1.1 kB)\n",
      "Collecting discord.py>=2.2.2\n",
      "  Downloading discord.py-2.2.2-py3-none-any.whl (1.1 MB)\n",
      "Requirement already satisfied: aiohttp<4,>=3.7.4 in c:\\users\\niyati\\anaconda3\\lib\\site-packages (from discord.py>=2.2.2->discord) (3.8.1)\n",
      "Requirement already satisfied: multidict<7.0,>=4.5 in c:\\users\\niyati\\anaconda3\\lib\\site-packages (from aiohttp<4,>=3.7.4->discord.py>=2.2.2->discord) (6.0.2)\n",
      "Requirement already satisfied: attrs>=17.3.0 in c:\\users\\niyati\\anaconda3\\lib\\site-packages (from aiohttp<4,>=3.7.4->discord.py>=2.2.2->discord) (19.3.0)\n",
      "Requirement already satisfied: async-timeout<5.0,>=4.0.0a3 in c:\\users\\niyati\\anaconda3\\lib\\site-packages (from aiohttp<4,>=3.7.4->discord.py>=2.2.2->discord) (4.0.2)\n",
      "Requirement already satisfied: aiosignal>=1.1.2 in c:\\users\\niyati\\anaconda3\\lib\\site-packages (from aiohttp<4,>=3.7.4->discord.py>=2.2.2->discord) (1.2.0)\n",
      "Requirement already satisfied: frozenlist>=1.1.1 in c:\\users\\niyati\\anaconda3\\lib\\site-packages (from aiohttp<4,>=3.7.4->discord.py>=2.2.2->discord) (1.3.0)\n",
      "Requirement already satisfied: charset-normalizer<3.0,>=2.0 in c:\\users\\niyati\\anaconda3\\lib\\site-packages (from aiohttp<4,>=3.7.4->discord.py>=2.2.2->discord) (2.0.12)\n",
      "Requirement already satisfied: yarl<2.0,>=1.0 in c:\\users\\niyati\\anaconda3\\lib\\site-packages (from aiohttp<4,>=3.7.4->discord.py>=2.2.2->discord) (1.7.2)\n",
      "Requirement already satisfied: idna>=2.0 in c:\\users\\niyati\\anaconda3\\lib\\site-packages (from yarl<2.0,>=1.0->aiohttp<4,>=3.7.4->discord.py>=2.2.2->discord) (2.10)\n",
      "Installing collected packages: discord.py, discord\n",
      "Successfully installed discord-2.2.2 discord.py-2.2.2\n"
     ]
    }
   ],
   "source": [
    "!pip3 install discord"
   ]
  },
  {
   "cell_type": "code",
   "execution_count": 8,
   "metadata": {},
   "outputs": [
    {
     "name": "stdout",
     "output_type": "stream",
     "text": [
      "Collecting robin_stocks\n",
      "  Downloading robin_stocks-2.1.0-py3-none-any.whl (131 kB)\n",
      "Requirement already satisfied: requests in c:\\users\\niyati\\anaconda3\\lib\\site-packages (from robin_stocks) (2.24.0)\n",
      "Requirement already satisfied: cryptography in c:\\users\\niyati\\anaconda3\\lib\\site-packages (from robin_stocks) (2.9.2)\n",
      "Collecting pyotp\n",
      "  Downloading pyotp-2.8.0-py3-none-any.whl (12 kB)\n",
      "Collecting python-dotenv\n",
      "  Downloading python_dotenv-1.0.0-py3-none-any.whl (19 kB)\n",
      "Requirement already satisfied: urllib3!=1.25.0,!=1.25.1,<1.26,>=1.21.1 in c:\\users\\niyati\\anaconda3\\lib\\site-packages (from requests->robin_stocks) (1.25.9)\n",
      "Requirement already satisfied: idna<3,>=2.5 in c:\\users\\niyati\\anaconda3\\lib\\site-packages (from requests->robin_stocks) (2.10)\n",
      "Requirement already satisfied: certifi>=2017.4.17 in c:\\users\\niyati\\anaconda3\\lib\\site-packages (from requests->robin_stocks) (2021.10.8)\n",
      "Requirement already satisfied: chardet<4,>=3.0.2 in c:\\users\\niyati\\anaconda3\\lib\\site-packages (from requests->robin_stocks) (3.0.4)\n",
      "Requirement already satisfied: cffi!=1.11.3,>=1.8 in c:\\users\\niyati\\anaconda3\\lib\\site-packages (from cryptography->robin_stocks) (1.14.0)\n",
      "Requirement already satisfied: six>=1.4.1 in c:\\users\\niyati\\anaconda3\\lib\\site-packages (from cryptography->robin_stocks) (1.15.0)\n",
      "Requirement already satisfied: pycparser in c:\\users\\niyati\\anaconda3\\lib\\site-packages (from cffi!=1.11.3,>=1.8->cryptography->robin_stocks) (2.20)\n",
      "Installing collected packages: pyotp, python-dotenv, robin-stocks\n",
      "Successfully installed pyotp-2.8.0 python-dotenv-1.0.0 robin-stocks-2.1.0\n"
     ]
    }
   ],
   "source": [
    "!pip3 install robin_stocks"
   ]
  },
  {
   "cell_type": "code",
   "execution_count": 10,
   "metadata": {},
   "outputs": [
    {
     "name": "stdout",
     "output_type": "stream",
     "text": [
      "Collecting rich\n",
      "  Downloading rich-13.3.2-py3-none-any.whl (238 kB)\n",
      "Collecting pygments<3.0.0,>=2.13.0\n",
      "  Downloading Pygments-2.14.0-py3-none-any.whl (1.1 MB)\n",
      "Collecting markdown-it-py<3.0.0,>=2.2.0\n",
      "  Downloading markdown_it_py-2.2.0-py3-none-any.whl (84 kB)\n"
     ]
    },
    {
     "name": "stderr",
     "output_type": "stream",
     "text": [
      "ERROR: spyder 4.1.4 requires pyqt5<5.13; python_version >= \"3\", which is not installed.\n",
      "ERROR: spyder 4.1.4 requires pyqtwebengine<5.13; python_version >= \"3\", which is not installed.\n",
      "ERROR: tensorflow 2.5.0 has requirement typing-extensions~=3.7.4, but you'll have typing-extensions 4.5.0 which is incompatible.\n",
      "ERROR: huggingface-hub 0.0.12 has requirement packaging>=20.9, but you'll have packaging 20.4 which is incompatible.\n"
     ]
    },
    {
     "name": "stdout",
     "output_type": "stream",
     "text": [
      "Collecting typing-extensions<5.0,>=4.0.0; python_version < \"3.9\"\n",
      "  Downloading typing_extensions-4.5.0-py3-none-any.whl (27 kB)\n",
      "Collecting mdurl~=0.1\n",
      "  Downloading mdurl-0.1.2-py3-none-any.whl (10.0 kB)\n",
      "Installing collected packages: pygments, mdurl, markdown-it-py, typing-extensions, rich\n",
      "  Attempting uninstall: pygments\n",
      "    Found existing installation: Pygments 2.6.1\n",
      "    Uninstalling Pygments-2.6.1:\n",
      "      Successfully uninstalled Pygments-2.6.1\n",
      "  Attempting uninstall: typing-extensions\n",
      "    Found existing installation: typing-extensions 3.7.4.2\n",
      "    Uninstalling typing-extensions-3.7.4.2:\n",
      "      Successfully uninstalled typing-extensions-3.7.4.2\n",
      "Successfully installed markdown-it-py-2.2.0 mdurl-0.1.2 pygments-2.14.0 rich-13.3.2 typing-extensions-4.5.0\n"
     ]
    }
   ],
   "source": [
    "!pip3 install rich"
   ]
  },
  {
   "cell_type": "code",
   "execution_count": 16,
   "metadata": {},
   "outputs": [
    {
     "data": {
      "text/html": [
       "<pre style=\"white-space:pre;overflow-x:auto;line-height:normal;font-family:Menlo,'DejaVu Sans Mono',consolas,'Courier New',monospace\"><span style=\"color: #800000; text-decoration-color: #800000\">╭─────────────────────────────── </span><span style=\"color: #800000; text-decoration-color: #800000; font-weight: bold\">Traceback </span><span style=\"color: #bf7f7f; text-decoration-color: #bf7f7f; font-weight: bold\">(most recent call last)</span><span style=\"color: #800000; text-decoration-color: #800000\"> ────────────────────────────────╮</span>\n",
       "<span style=\"color: #800000; text-decoration-color: #800000\">│</span> in <span style=\"color: #00ff00; text-decoration-color: #00ff00\">&lt;module&gt;</span>:<span style=\"color: #0000ff; text-decoration-color: #0000ff\">2</span>                                                                                    <span style=\"color: #800000; text-decoration-color: #800000\">│</span>\n",
       "<span style=\"color: #800000; text-decoration-color: #800000\">╰──────────────────────────────────────────────────────────────────────────────────────────────────╯</span>\n",
       "<span style=\"color: #ff0000; text-decoration-color: #ff0000; font-weight: bold\">KeyError: </span><span style=\"font-weight: bold\">&lt;</span><span style=\"color: #ff00ff; text-decoration-color: #ff00ff; font-weight: bold\">module</span><span style=\"color: #000000; text-decoration-color: #000000\"> </span><span style=\"color: #008000; text-decoration-color: #008000\">'config'</span><span style=\"color: #000000; text-decoration-color: #000000\"> from </span><span style=\"color: #008000; text-decoration-color: #008000\">'C:\\\\Users\\\\Niyati\\\\Anaconda3\\\\lib\\\\site-packages\\\\config\\\\__init__.py'</span><span style=\"font-weight: bold\">&gt;</span>\n",
       "</pre>\n"
      ],
      "text/plain": [
       "\u001b[31m╭─\u001b[0m\u001b[31m──────────────────────────────\u001b[0m\u001b[31m \u001b[0m\u001b[1;31mTraceback \u001b[0m\u001b[1;2;31m(most recent call last)\u001b[0m\u001b[31m \u001b[0m\u001b[31m───────────────────────────────\u001b[0m\u001b[31m─╮\u001b[0m\n",
       "\u001b[31m│\u001b[0m in \u001b[92m<module>\u001b[0m:\u001b[94m2\u001b[0m                                                                                    \u001b[31m│\u001b[0m\n",
       "\u001b[31m╰──────────────────────────────────────────────────────────────────────────────────────────────────╯\u001b[0m\n",
       "\u001b[1;91mKeyError: \u001b[0m\u001b[1m<\u001b[0m\u001b[1;95mmodule\u001b[0m\u001b[39m \u001b[0m\u001b[32m'config'\u001b[0m\u001b[39m from \u001b[0m\u001b[32m'C:\\\\Users\\\\Niyati\\\\Anaconda3\\\\lib\\\\site-packages\\\\config\\\\__init__.py'\u001b[0m\u001b[1m>\u001b[0m\n"
      ]
     },
     "metadata": {},
     "output_type": "display_data"
    }
   ],
   "source": [
    "import sys\n",
    "setattr(sys.modules[config], 'reddit_id')"
   ]
  },
  {
   "cell_type": "code",
   "execution_count": null,
   "metadata": {},
   "outputs": [],
   "source": []
  }
 ],
 "metadata": {
  "kernelspec": {
   "display_name": "Python 3",
   "language": "python",
   "name": "python3"
  },
  "language_info": {
   "codemirror_mode": {
    "name": "ipython",
    "version": 3
   },
   "file_extension": ".py",
   "mimetype": "text/x-python",
   "name": "python",
   "nbconvert_exporter": "python",
   "pygments_lexer": "ipython3",
   "version": "3.8.3"
  }
 },
 "nbformat": 4,
 "nbformat_minor": 4
}
